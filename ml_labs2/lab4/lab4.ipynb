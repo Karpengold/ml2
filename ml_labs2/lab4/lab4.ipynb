{
  "nbformat": 4,
  "nbformat_minor": 0,
  "metadata": {
    "colab": {
      "name": "Untitled2.ipynb",
      "provenance": [],
      "collapsed_sections": []
    },
    "kernelspec": {
      "name": "python3",
      "display_name": "Python 3"
    },
    "accelerator": "GPU"
  },
  "cells": [
    {
      "cell_type": "code",
      "metadata": {
        "id": "wyPbwpJhsPv_",
        "colab_type": "code",
        "outputId": "a6b7c636-ee87-4136-d6d8-fe837ef5471d",
        "colab": {
          "base_uri": "https://localhost:8080/",
          "height": 68
        }
      },
      "source": [
        "import keras\n",
        "from keras.datasets import mnist\n",
        "from keras.datasets import mnist\n",
        "from keras.models import Sequential\n",
        "from keras.layers import Dense, Dropout, Flatten\n",
        "from keras.layers import Conv2D, MaxPooling2D\n",
        "from keras import backend as K\n",
        "from keras.models import Model\n",
        "from keras.layers import Input\n",
        "(x_train, y_train), (x_test, y_test) = mnist.load_data()\n",
        "\n",
        "batch_size = 128\n",
        "num_classes = 10\n",
        "epochs = 12\n",
        "img_rows, img_cols = 28, 28\n",
        "x_train = x_train.astype('float32')\n",
        "x_test = x_test.astype('float32')\n",
        "x_train /= 255\n",
        "x_test /= 255\n",
        "print('x_train shape:', x_train.shape)\n",
        "print(x_train.shape[0], 'train samples')\n",
        "print(x_test.shape[0], 'test samples')\n",
        "input_shape = (img_rows, img_cols, 1)\n",
        "x_train = x_train.reshape(x_train.shape[0], img_rows, img_cols, 1)\n",
        "x_test = x_test.reshape(x_test.shape[0], img_rows, img_cols, 1)\n",
        "# convert class vectors to binary class matrices\n",
        "y_train = keras.utils.to_categorical(y_train, num_classes)\n",
        "y_test = keras.utils.to_categorical(y_test, num_classes)\n",
        "\n",
        "inputs = Input(shape=(28, 28, 1))\n",
        "\n",
        "# a layer instance is callable on a tensor, and returns a tensor\n",
        "output_1 = Conv2D(32, kernel_size=(3, 3),\n",
        "                 activation='relu')(inputs)\n",
        "output_2 = Conv2D(64, (3, 3), activation='relu')(output_1)\n",
        "output_3 = MaxPooling2D(pool_size=(2, 2))(output_2)\n",
        "output_4 = Dropout(0.25)(output_3)\n",
        "output_5 = Flatten()(output_4)\n",
        "output_6 = Dense(128, activation='relu')(output_5)\n",
        "output_7 = Dropout(0.5)(output_6)\n",
        "predictions = Dense(10, activation='softmax')(output_7)\n",
        "\n",
        "model = Model(inputs=inputs, outputs=predictions)\n",
        "\n",
        "# model = Sequential()\n",
        "# model.add(Conv2D(32, kernel_size=(3, 3),\n",
        "#                  activation='relu',\n",
        "#                  input_shape=input_shape))\n",
        "# model.add(Conv2D(64, (3, 3), activation='relu'))\n",
        "# model.add(MaxPooling2D(pool_size=(2, 2)))\n",
        "# model.add(Dropout(0.25))\n",
        "# model.add(Flatten())\n",
        "# model.add(Dense(128, activation='relu'))\n",
        "# model.add(Dropout(0.5))\n",
        "# model.add(Dense(num_classes, activation='softmax'))\n",
        "model.compile(loss=keras.losses.categorical_crossentropy,\n",
        "              optimizer=keras.optimizers.Adadelta(),\n",
        "              metrics=['accuracy'])\n",
        "\n"
      ],
      "execution_count": 91,
      "outputs": [
        {
          "output_type": "stream",
          "text": [
            "x_train shape: (60000, 28, 28)\n",
            "60000 train samples\n",
            "10000 test samples\n"
          ],
          "name": "stdout"
        }
      ]
    },
    {
      "cell_type": "code",
      "metadata": {
        "id": "OvPli7VCzCeE",
        "colab_type": "code",
        "outputId": "8279c553-ce06-4e31-c98f-18fb89f7f16b",
        "colab": {
          "base_uri": "https://localhost:8080/",
          "height": 462
        }
      },
      "source": [
        "history = model.fit(x_train, y_train,\n",
        "          batch_size=batch_size,\n",
        "          epochs=12,\n",
        "          verbose=1,\n",
        "          validation_data=(x_test, y_test))\n",
        "score = model.evaluate(x_test, y_test, verbose=0)"
      ],
      "execution_count": 92,
      "outputs": [
        {
          "output_type": "stream",
          "text": [
            "Train on 60000 samples, validate on 10000 samples\n",
            "Epoch 1/12\n",
            "60000/60000 [==============================] - 4s 59us/step - loss: 0.2604 - accuracy: 0.9202 - val_loss: 0.0542 - val_accuracy: 0.9813\n",
            "Epoch 2/12\n",
            "60000/60000 [==============================] - 3s 56us/step - loss: 0.0845 - accuracy: 0.9747 - val_loss: 0.0400 - val_accuracy: 0.9867\n",
            "Epoch 3/12\n",
            "60000/60000 [==============================] - 3s 56us/step - loss: 0.0649 - accuracy: 0.9807 - val_loss: 0.0316 - val_accuracy: 0.9899\n",
            "Epoch 4/12\n",
            "60000/60000 [==============================] - 3s 56us/step - loss: 0.0524 - accuracy: 0.9842 - val_loss: 0.0301 - val_accuracy: 0.9885\n",
            "Epoch 5/12\n",
            "60000/60000 [==============================] - 3s 56us/step - loss: 0.0481 - accuracy: 0.9854 - val_loss: 0.0300 - val_accuracy: 0.9905\n",
            "Epoch 6/12\n",
            "60000/60000 [==============================] - 3s 56us/step - loss: 0.0387 - accuracy: 0.9882 - val_loss: 0.0295 - val_accuracy: 0.9901\n",
            "Epoch 7/12\n",
            "60000/60000 [==============================] - 3s 56us/step - loss: 0.0377 - accuracy: 0.9882 - val_loss: 0.0280 - val_accuracy: 0.9901\n",
            "Epoch 8/12\n",
            "60000/60000 [==============================] - 3s 55us/step - loss: 0.0343 - accuracy: 0.9890 - val_loss: 0.0286 - val_accuracy: 0.9900\n",
            "Epoch 9/12\n",
            "60000/60000 [==============================] - 3s 56us/step - loss: 0.0328 - accuracy: 0.9898 - val_loss: 0.0296 - val_accuracy: 0.9907\n",
            "Epoch 10/12\n",
            "60000/60000 [==============================] - 3s 56us/step - loss: 0.0284 - accuracy: 0.9914 - val_loss: 0.0258 - val_accuracy: 0.9912\n",
            "Epoch 11/12\n",
            "60000/60000 [==============================] - 3s 56us/step - loss: 0.0279 - accuracy: 0.9911 - val_loss: 0.0260 - val_accuracy: 0.9915\n",
            "Epoch 12/12\n",
            "60000/60000 [==============================] - 3s 56us/step - loss: 0.0267 - accuracy: 0.9915 - val_loss: 0.0246 - val_accuracy: 0.9914\n"
          ],
          "name": "stdout"
        }
      ]
    },
    {
      "cell_type": "code",
      "metadata": {
        "id": "Nc6DVTkb4ka4",
        "colab_type": "code",
        "colab": {}
      },
      "source": [
        ""
      ],
      "execution_count": 0,
      "outputs": []
    },
    {
      "cell_type": "code",
      "metadata": {
        "id": "s2dUaAwFuPKd",
        "colab_type": "code",
        "outputId": "9bf9452a-004a-4919-8206-f0c8e83424ca",
        "colab": {
          "base_uri": "https://localhost:8080/",
          "height": 34
        }
      },
      "source": [
        "score"
      ],
      "execution_count": 0,
      "outputs": [
        {
          "output_type": "execute_result",
          "data": {
            "text/plain": [
              "[0.02834214517076225, 0.9912999868392944]"
            ]
          },
          "metadata": {
            "tags": []
          },
          "execution_count": 49
        }
      ]
    },
    {
      "cell_type": "code",
      "metadata": {
        "id": "aViLFMuguco8",
        "colab_type": "code",
        "outputId": "49643def-7a0e-4e68-e4a3-08c5ef0b7290",
        "colab": {
          "base_uri": "https://localhost:8080/",
          "height": 513
        }
      },
      "source": [
        "import matplotlib.pyplot as plt\n",
        "import numpy as np\n",
        "\n",
        "plt.plot(history.history['loss'], color='b', label=\"Training loss\", )\n",
        "plt.plot(history.history['val_loss'], color='r', label=\"validation loss\")\n",
        "legend = plt.legend(loc='best', shadow=True)\n",
        "plt.show()\n",
        "\n",
        "plt.plot(history.history['accuracy'], color='b', label=\"Training accuracy\")\n",
        "plt.plot(history.history['val_accuracy'], color='r',label=\"Validation accuracy\")\n",
        "legend = plt.legend(loc='best', shadow=True)\n",
        "plt.show()"
      ],
      "execution_count": 0,
      "outputs": [
        {
          "output_type": "display_data",
          "data": {
            "image/png": "[encoded data removed]",
            "text/plain": [
              "<Figure size 432x288 with 1 Axes>"
            ]
          },
          "metadata": {
            "tags": [],
            "needs_background": "light"
          }
        },
        {
          "output_type": "display_data",
          "data": {
            "image/png": "[encoded data removed]",
            "text/plain": [
              "<Figure size 432x288 with 1 Axes>"
            ]
          },
          "metadata": {
            "tags": [],
            "needs_background": "light"
          }
        }
      ]
    },
    {
      "cell_type": "code",
      "metadata": {
        "id": "zaU9FxvMwHHj",
        "colab_type": "code",
        "outputId": "66aa7054-a7f4-44c8-fee5-4f1fb9ca5518",
        "colab": {
          "base_uri": "https://localhost:8080/",
          "height": 425
        }
      },
      "source": [
        "model.summary()"
      ],
      "execution_count": 0,
      "outputs": [
        {
          "output_type": "stream",
          "text": [
            "Model: \"sequential_5\"\n",
            "_________________________________________________________________\n",
            "Layer (type)                 Output Shape              Param #   \n",
            "=================================================================\n",
            "conv2d_5 (Conv2D)            (None, 26, 26, 32)        320       \n",
            "_________________________________________________________________\n",
            "conv2d_6 (Conv2D)            (None, 24, 24, 64)        18496     \n",
            "_________________________________________________________________\n",
            "max_pooling2d_3 (MaxPooling2 (None, 12, 12, 64)        0         \n",
            "_________________________________________________________________\n",
            "dropout_5 (Dropout)          (None, 12, 12, 64)        0         \n",
            "_________________________________________________________________\n",
            "flatten_3 (Flatten)          (None, 9216)              0         \n",
            "_________________________________________________________________\n",
            "dense_5 (Dense)              (None, 128)               1179776   \n",
            "_________________________________________________________________\n",
            "dropout_6 (Dropout)          (None, 128)               0         \n",
            "_________________________________________________________________\n",
            "dense_6 (Dense)              (None, 10)                1290      \n",
            "=================================================================\n",
            "Total params: 1,199,882\n",
            "Trainable params: 1,199,882\n",
            "Non-trainable params: 0\n",
            "_________________________________________________________________\n"
          ],
          "name": "stdout"
        }
      ]
    },
    {
      "cell_type": "code",
      "metadata": {
        "id": "OyGW9Agx5PuB",
        "colab_type": "code",
        "colab": {}
      },
      "source": [
        ""
      ],
      "execution_count": 0,
      "outputs": []
    },
    {
      "cell_type": "code",
      "metadata": {
        "id": "niXPqCCNEB9T",
        "colab_type": "code",
        "colab": {
          "base_uri": "https://localhost:8080/",
          "height": 204
        },
        "outputId": "f0e14c1f-160b-432c-e75d-c48afe68dd6e"
      },
      "source": [
        "!wget http://ufldl.stanford.edu/housenumbers/train_32x32.mat"
      ],
      "execution_count": 5,
      "outputs": [
        {
          "output_type": "stream",
          "text": [
            "--2020-04-19 20:11:07--  http://ufldl.stanford.edu/housenumbers/train_32x32.mat\n",
            "Resolving ufldl.stanford.edu (ufldl.stanford.edu)... 171.64.68.10\n",
            "Connecting to ufldl.stanford.edu (ufldl.stanford.edu)|171.64.68.10|:80... connected.\n",
            "HTTP request sent, awaiting response... 200 OK\n",
            "Length: 182040794 (174M) [text/plain]\n",
            "Saving to: ‘train_32x32.mat’\n",
            "\n",
            "train_32x32.mat     100%[===================>] 173.61M  19.8MB/s    in 12s     \n",
            "\n",
            "2020-04-19 20:11:19 (14.9 MB/s) - ‘train_32x32.mat’ saved [182040794/182040794]\n",
            "\n"
          ],
          "name": "stdout"
        }
      ]
    },
    {
      "cell_type": "code",
      "metadata": {
        "id": "idL9VimbEmVg",
        "colab_type": "code",
        "colab": {}
      },
      "source": [
        "from scipy import io\n",
        "v = io.loadmat('train_32x32.mat')"
      ],
      "execution_count": 0,
      "outputs": []
    },
    {
      "cell_type": "code",
      "metadata": {
        "id": "wmGQUsW2ErOA",
        "colab_type": "code",
        "colab": {}
      },
      "source": [
        "import numpy as np\n",
        "import cv2 \n",
        "X = v.get('X')\n",
        "y = v.get('y')\n",
        "def rgb2gray(rgb):\n",
        "    return np.array(np.dot(rgb[...,:3], [0.299, 0.587, 0.144]))\n",
        "formatted_x = []\n",
        "\n",
        "for i in range(0, X.shape[3]):\n",
        "  image = cv2.resize(np.array(X[:,:,:,i],dtype='uint8') ,(28,28))\n",
        "  formatted_x.append(rgb2gray(image))\n",
        "\n",
        "formatted_x = np.array(formatted_x)\n",
        "formatted_x = formatted_x.reshape(formatted_x.shape[0], 28, 28, 1)/255\n",
        "\n"
      ],
      "execution_count": 0,
      "outputs": []
    },
    {
      "cell_type": "code",
      "metadata": {
        "id": "18t-fCWNH3Af",
        "colab_type": "code",
        "colab": {}
      },
      "source": [
        "from sklearn.preprocessing import LabelBinarizer\n",
        "from sklearn.model_selection import train_test_split\n",
        "label_binarizer = LabelBinarizer()\n",
        "y = label_binarizer.fit_transform(y)\n",
        "X_train, X_test, y_train, y_test = train_test_split(formatted_x, y, test_size=0.33, random_state=42)"
      ],
      "execution_count": 0,
      "outputs": []
    },
    {
      "cell_type": "code",
      "metadata": {
        "id": "in4ZUqgXGhL4",
        "colab_type": "code",
        "colab": {
          "base_uri": "https://localhost:8080/",
          "height": 564
        },
        "outputId": "4ddb9c80-4587-4e81-b60d-695a9cbca72f"
      },
      "source": [
        "history = model.fit(X_train, y_train, validation_data=(X_test, y_test), batch_size=batch_size, epochs=15)"
      ],
      "execution_count": 96,
      "outputs": [
        {
          "output_type": "stream",
          "text": [
            "Train on 49082 samples, validate on 24175 samples\n",
            "Epoch 1/15\n",
            "49082/49082 [==============================] - 3s 66us/step - loss: 1.2930 - accuracy: 0.5765 - val_loss: 0.6337 - val_accuracy: 0.8204\n",
            "Epoch 2/15\n",
            "49082/49082 [==============================] - 3s 67us/step - loss: 0.7284 - accuracy: 0.7829 - val_loss: 0.5055 - val_accuracy: 0.8554\n",
            "Epoch 3/15\n",
            "49082/49082 [==============================] - 3s 66us/step - loss: 0.6177 - accuracy: 0.8156 - val_loss: 0.4465 - val_accuracy: 0.8704\n",
            "Epoch 4/15\n",
            "49082/49082 [==============================] - 3s 66us/step - loss: 0.5596 - accuracy: 0.8321 - val_loss: 0.4626 - val_accuracy: 0.8750\n",
            "Epoch 5/15\n",
            "49082/49082 [==============================] - 3s 66us/step - loss: 0.5175 - accuracy: 0.8475 - val_loss: 0.4941 - val_accuracy: 0.8666\n",
            "Epoch 6/15\n",
            "49082/49082 [==============================] - 3s 66us/step - loss: 0.4946 - accuracy: 0.8514 - val_loss: 0.3861 - val_accuracy: 0.8893\n",
            "Epoch 7/15\n",
            "49082/49082 [==============================] - 3s 65us/step - loss: 0.4635 - accuracy: 0.8598 - val_loss: 0.3900 - val_accuracy: 0.8891\n",
            "Epoch 8/15\n",
            "49082/49082 [==============================] - 3s 66us/step - loss: 0.4430 - accuracy: 0.8664 - val_loss: 0.3868 - val_accuracy: 0.8898\n",
            "Epoch 9/15\n",
            "49082/49082 [==============================] - 3s 65us/step - loss: 0.4248 - accuracy: 0.8714 - val_loss: 0.3704 - val_accuracy: 0.8932\n",
            "Epoch 10/15\n",
            "49082/49082 [==============================] - 3s 66us/step - loss: 0.4066 - accuracy: 0.8776 - val_loss: 0.3685 - val_accuracy: 0.8946\n",
            "Epoch 11/15\n",
            "49082/49082 [==============================] - 3s 66us/step - loss: 0.3925 - accuracy: 0.8809 - val_loss: 0.3605 - val_accuracy: 0.8985\n",
            "Epoch 12/15\n",
            "49082/49082 [==============================] - 3s 66us/step - loss: 0.3792 - accuracy: 0.8856 - val_loss: 0.3549 - val_accuracy: 0.8997\n",
            "Epoch 13/15\n",
            "49082/49082 [==============================] - 3s 66us/step - loss: 0.3711 - accuracy: 0.8886 - val_loss: 0.3620 - val_accuracy: 0.8982\n",
            "Epoch 14/15\n",
            "49082/49082 [==============================] - 3s 66us/step - loss: 0.3609 - accuracy: 0.8915 - val_loss: 0.3357 - val_accuracy: 0.9044\n",
            "Epoch 15/15\n",
            "49082/49082 [==============================] - 3s 66us/step - loss: 0.3457 - accuracy: 0.8946 - val_loss: 0.3471 - val_accuracy: 0.9029\n"
          ],
          "name": "stdout"
        }
      ]
    },
    {
      "cell_type": "code",
      "metadata": {
        "id": "DwUvu6-XSAba",
        "colab_type": "code",
        "colab": {
          "base_uri": "https://localhost:8080/",
          "height": 513
        },
        "outputId": "199ee066-4acf-424f-9d3c-66ec90b80146"
      },
      "source": [
        "import matplotlib.pyplot as plt\n",
        "import numpy as np\n",
        "\n",
        "plt.plot(history.history['loss'], color='b', label=\"Training loss\", )\n",
        "plt.plot(history.history['val_loss'], color='r', label=\"validation loss\")\n",
        "legend = plt.legend(loc='best', shadow=True)\n",
        "plt.show()\n",
        "\n",
        "plt.plot(history.history['accuracy'], color='b', label=\"Training accuracy\")\n",
        "plt.plot(history.history['val_accuracy'], color='r',label=\"Validation accuracy\")\n",
        "legend = plt.legend(loc='best', shadow=True)\n",
        "plt.show()"
      ],
      "execution_count": 97,
      "outputs": [
        {
          "output_type": "display_data",
          "data": {
            "image/png": "[encoded data removed]",
            "text/plain": [
              "<Figure size 432x288 with 1 Axes>"
            ]
          },
          "metadata": {
            "tags": [],
            "needs_background": "light"
          }
        },
        {
          "output_type": "display_data",
          "data": {
            "image/png": "[encoded data removed]",
            "text/plain": [
              "<Figure size 432x288 with 1 Axes>"
            ]
          },
          "metadata": {
            "tags": [],
            "needs_background": "light"
          }
        }
      ]
    },
    {
      "cell_type": "code",
      "metadata": {
        "id": "H8A28PtzPLfl",
        "colab_type": "code",
        "colab": {
          "base_uri": "https://localhost:8080/",
          "height": 204
        },
        "outputId": "0433ae17-a930-4250-f9b3-17dcf0964aea"
      },
      "source": [
        "!wget http://ufldl.stanford.edu/housenumbers/test_32x32.mat"
      ],
      "execution_count": 80,
      "outputs": [
        {
          "output_type": "stream",
          "text": [
            "--2020-04-19 21:05:24--  http://ufldl.stanford.edu/housenumbers/test_32x32.mat\n",
            "Resolving ufldl.stanford.edu (ufldl.stanford.edu)... 171.64.68.10\n",
            "Connecting to ufldl.stanford.edu (ufldl.stanford.edu)|171.64.68.10|:80... connected.\n",
            "HTTP request sent, awaiting response... 200 OK\n",
            "Length: 64275384 (61M) [text/plain]\n",
            "Saving to: ‘test_32x32.mat’\n",
            "\n",
            "test_32x32.mat      100%[===================>]  61.30M  16.5MB/s    in 6.1s    \n",
            "\n",
            "2020-04-19 21:05:30 (10.1 MB/s) - ‘test_32x32.mat’ saved [64275384/64275384]\n",
            "\n"
          ],
          "name": "stdout"
        }
      ]
    },
    {
      "cell_type": "code",
      "metadata": {
        "id": "yClKlZ94QsFy",
        "colab_type": "code",
        "colab": {
          "base_uri": "https://localhost:8080/",
          "height": 51
        },
        "outputId": "980f24f3-07e8-4875-abfb-80c0458c9494"
      },
      "source": [
        "from scipy import io\n",
        "v = io.loadmat('test_32x32.mat')\n",
        "X = v.get('X')\n",
        "y = v.get('y')\n",
        "def rgb2gray(rgb):\n",
        "    return np.array(np.dot(rgb[...,:3], [0.299, 0.587, 0.144]))\n",
        "X_test = []\n",
        "\n",
        "for i in range(0, X.shape[3]):\n",
        "  image = cv2.resize(np.array(X[:,:,:,i],dtype='uint8') ,(28,28))\n",
        "  X_test.append(rgb2gray(image))\n",
        "\n",
        "X_test = np.array(X_test)\n",
        "X_test = X_test.reshape(X_test.shape[0], 28, 28, 1)/255\n",
        "y_test = label_binarizer.fit_transform(y)\n",
        "\n",
        "model.evaluate(X_test, y_test)"
      ],
      "execution_count": 98,
      "outputs": [
        {
          "output_type": "stream",
          "text": [
            "26032/26032 [==============================] - 2s 65us/step\n"
          ],
          "name": "stdout"
        },
        {
          "output_type": "execute_result",
          "data": {
            "text/plain": [
              "[0.3906261430459112, 0.8914797306060791]"
            ]
          },
          "metadata": {
            "tags": []
          },
          "execution_count": 98
        }
      ]
    }
  ]
}