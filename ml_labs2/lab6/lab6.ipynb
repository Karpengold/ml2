{
  "nbformat": 4,
  "nbformat_minor": 0,
  "metadata": {
    "colab": {
      "name": "lab6.ipynb",
      "provenance": [],
      "collapsed_sections": []
    },
    "kernelspec": {
      "name": "python3",
      "display_name": "Python 3"
    },
    "accelerator": "GPU"
  },
  "cells": [
    {
      "cell_type": "code",
      "metadata": {
        "id": "qKc3GFe5gnD3",
        "colab_type": "code",
        "outputId": "36f18c3c-685e-4eb2-e232-726168cb40c6",
        "colab": {
          "base_uri": "https://localhost:8080/",
          "height": 153
        }
      },
      "source": [
        "!unzip sign-language-mnist.zip"
      ],
      "execution_count": 0,
      "outputs": [
        {
          "output_type": "stream",
          "text": [
            "Archive:  sign-language-mnist.zip\n",
            "  inflating: amer_sign2.png          \n",
            "  inflating: amer_sign3.png          \n",
            "  inflating: american_sign_language.PNG  \n",
            "  inflating: sign_mnist_test.csv     \n",
            "  inflating: sign_mnist_test/sign_mnist_test.csv  \n",
            "  inflating: sign_mnist_train.csv    \n",
            "  inflating: sign_mnist_train/sign_mnist_train.csv  \n"
          ],
          "name": "stdout"
        }
      ]
    },
    {
      "cell_type": "code",
      "metadata": {
        "id": "q5QAN1rEgrp0",
        "colab_type": "code",
        "outputId": "6aa89e35-6725-4c3a-9a71-54139eaef735",
        "colab": {
          "base_uri": "https://localhost:8080/",
          "height": 136
        }
      },
      "source": [
        "import os\n",
        "import pandas as pd\n",
        "import numpy as np\n",
        "\n",
        "train = pd.read_csv('sign_mnist_train.csv')  \n",
        "labels = train['label'].values\n",
        "train.drop('label', axis=1, inplace=True)\n",
        "images = train.values\n",
        "images = np.array([np.reshape(i, (28, 28)) for i in images])\n",
        "images = np.array([i.flatten() for i in images])\n",
        "\n",
        "\n",
        "from sklearn.preprocessing import LabelBinarizer\n",
        "label_binarizer = LabelBinarizer()\n",
        "labels = label_binarizer.fit_transform(labels)\n",
        "labels"
      ],
      "execution_count": 0,
      "outputs": [
        {
          "output_type": "execute_result",
          "data": {
            "text/plain": [
              "array([[0, 0, 0, ..., 0, 0, 0],\n",
              "       [0, 0, 0, ..., 0, 0, 0],\n",
              "       [0, 0, 1, ..., 0, 0, 0],\n",
              "       ...,\n",
              "       [0, 0, 0, ..., 0, 0, 0],\n",
              "       [0, 0, 0, ..., 0, 0, 0],\n",
              "       [0, 0, 0, ..., 0, 1, 0]])"
            ]
          },
          "metadata": {
            "tags": []
          },
          "execution_count": 21
        }
      ]
    },
    {
      "cell_type": "code",
      "metadata": {
        "id": "BOnaIRTLhCbN",
        "colab_type": "code",
        "outputId": "472174a1-b871-448f-846e-984dbddd69e2",
        "colab": {
          "base_uri": "https://localhost:8080/",
          "height": 493
        }
      },
      "source": [
        "from sklearn.model_selection import train_test_split\n",
        "from tensorflow.python.keras.preprocessing.image import ImageDataGenerator\n",
        "from tensorflow.python.keras.models import Sequential\n",
        "from tensorflow.python.keras.layers import Dense, Conv2D, MaxPooling2D, Flatten, BatchNormalization\n",
        "from tensorflow.python.keras.layers import Dropout\n",
        "from tensorflow.python.keras.optimizers import Adam\n",
        "from tensorflow.python.keras.losses import categorical_crossentropy\n",
        "batch_size = 128\n",
        "num_classes = 24\n",
        "epochs = 30\n",
        "\n",
        "x_train, x_test, y_train, y_test = train_test_split(images, labels, test_size = 0.3, random_state = 42)\n",
        "x_train = x_train.reshape(x_train.shape[0], 28, 28, 1)/255\n",
        "x_test = x_test.reshape(x_test.shape[0], 28, 28, 1)/255\n",
        "\n",
        "# datagen = ImageDataGenerator(\n",
        "#     rotation_range=15,\n",
        "#     shear_range=0.1,\n",
        "#     zoom_range=0.2,\n",
        "#     horizontal_flip=True,\n",
        "#     width_shift_range=0.1,\n",
        "#     height_shift_range=0.1) \n",
        "\n",
        "\n",
        "datagen = ImageDataGenerator() \n",
        "datagen.fit(x_train)\n",
        "\n",
        "\n",
        "model = Sequential()\n",
        "model.add(Conv2D(64, kernel_size=(3,3), activation = 'relu', input_shape=(28, 28 ,1) ))\n",
        "model.add(MaxPooling2D(pool_size = (2, 2)))\n",
        "\n",
        "model.add(Conv2D(64, kernel_size = (3, 3), activation = 'relu'))\n",
        "model.add(MaxPooling2D(pool_size = (2, 2)))\n",
        "\n",
        "model.add(Conv2D(64, kernel_size = (3, 3), activation = 'relu'))\n",
        "model.add(MaxPooling2D(pool_size = (2, 2)))\n",
        "\n",
        "model.add(Flatten())\n",
        "model.add(Dense(128, activation = 'relu'))\n",
        "model.add(Dropout(0.20))\n",
        "\n",
        "model.add(Dense(num_classes, activation = 'softmax'))\n",
        "\n",
        "model.compile(loss = categorical_crossentropy, optimizer='adam',\n",
        "              metrics=['accuracy'])\n",
        "model.summary()"
      ],
      "execution_count": 0,
      "outputs": [
        {
          "output_type": "stream",
          "text": [
            "Model: \"sequential_5\"\n",
            "_________________________________________________________________\n",
            "Layer (type)                 Output Shape              Param #   \n",
            "=================================================================\n",
            "conv2d_13 (Conv2D)           (None, 26, 26, 64)        640       \n",
            "_________________________________________________________________\n",
            "max_pooling2d_12 (MaxPooling (None, 13, 13, 64)        0         \n",
            "_________________________________________________________________\n",
            "conv2d_14 (Conv2D)           (None, 11, 11, 64)        36928     \n",
            "_________________________________________________________________\n",
            "max_pooling2d_13 (MaxPooling (None, 5, 5, 64)          0         \n",
            "_________________________________________________________________\n",
            "conv2d_15 (Conv2D)           (None, 3, 3, 64)          36928     \n",
            "_________________________________________________________________\n",
            "max_pooling2d_14 (MaxPooling (None, 1, 1, 64)          0         \n",
            "_________________________________________________________________\n",
            "flatten_4 (Flatten)          (None, 64)                0         \n",
            "_________________________________________________________________\n",
            "dense_8 (Dense)              (None, 128)               8320      \n",
            "_________________________________________________________________\n",
            "dropout_4 (Dropout)          (None, 128)               0         \n",
            "_________________________________________________________________\n",
            "dense_9 (Dense)              (None, 24)                3096      \n",
            "=================================================================\n",
            "Total params: 85,912\n",
            "Trainable params: 85,912\n",
            "Non-trainable params: 0\n",
            "_________________________________________________________________\n"
          ],
          "name": "stdout"
        }
      ]
    },
    {
      "cell_type": "code",
      "metadata": {
        "id": "5_Yr_NmUm_Bz",
        "colab_type": "code",
        "outputId": "42850f59-273e-48e0-fd55-740028cfc541",
        "colab": {
          "base_uri": "https://localhost:8080/",
          "height": 1000
        }
      },
      "source": [
        "history = model.fit(datagen.flow(x_train, y_train, batch_size=128), steps_per_epoch=len(x_train) / 128, validation_data = (x_test, y_test), epochs=epochs )\n"
      ],
      "execution_count": 0,
      "outputs": [
        {
          "output_type": "stream",
          "text": [
            "Epoch 1/30\n",
            "151/150 [==============================] - 3s 19ms/step - loss: 2.5772 - accuracy: 0.2051 - val_loss: 1.6457 - val_accuracy: 0.4766\n",
            "Epoch 2/30\n",
            "151/150 [==============================] - 3s 17ms/step - loss: 1.2933 - accuracy: 0.5740 - val_loss: 0.8843 - val_accuracy: 0.7196\n",
            "Epoch 3/30\n",
            "151/150 [==============================] - 3s 17ms/step - loss: 0.8114 - accuracy: 0.7268 - val_loss: 0.6185 - val_accuracy: 0.7996\n",
            "Epoch 4/30\n",
            "151/150 [==============================] - 3s 18ms/step - loss: 0.5855 - accuracy: 0.8002 - val_loss: 0.4023 - val_accuracy: 0.8765\n",
            "Epoch 5/30\n",
            "151/150 [==============================] - 3s 17ms/step - loss: 0.4324 - accuracy: 0.8527 - val_loss: 0.3082 - val_accuracy: 0.9029\n",
            "Epoch 6/30\n",
            "151/150 [==============================] - 3s 18ms/step - loss: 0.3148 - accuracy: 0.8920 - val_loss: 0.1962 - val_accuracy: 0.9414\n",
            "Epoch 7/30\n",
            "151/150 [==============================] - 3s 17ms/step - loss: 0.2341 - accuracy: 0.9212 - val_loss: 0.1400 - val_accuracy: 0.9622\n",
            "Epoch 8/30\n",
            "151/150 [==============================] - 3s 18ms/step - loss: 0.1753 - accuracy: 0.9439 - val_loss: 0.1042 - val_accuracy: 0.9733\n",
            "Epoch 9/30\n",
            "151/150 [==============================] - 3s 18ms/step - loss: 0.1307 - accuracy: 0.9602 - val_loss: 0.0716 - val_accuracy: 0.9860\n",
            "Epoch 10/30\n",
            "151/150 [==============================] - 3s 18ms/step - loss: 0.1120 - accuracy: 0.9660 - val_loss: 0.0608 - val_accuracy: 0.9866\n",
            "Epoch 11/30\n",
            "151/150 [==============================] - 3s 18ms/step - loss: 0.0823 - accuracy: 0.9760 - val_loss: 0.0421 - val_accuracy: 0.9927\n",
            "Epoch 12/30\n",
            "151/150 [==============================] - 3s 18ms/step - loss: 0.0620 - accuracy: 0.9832 - val_loss: 0.0252 - val_accuracy: 0.9971\n",
            "Epoch 13/30\n",
            "151/150 [==============================] - 3s 18ms/step - loss: 0.0550 - accuracy: 0.9850 - val_loss: 0.0184 - val_accuracy: 0.9979\n",
            "Epoch 14/30\n",
            "151/150 [==============================] - 3s 18ms/step - loss: 0.0397 - accuracy: 0.9901 - val_loss: 0.0149 - val_accuracy: 0.9982\n",
            "Epoch 15/30\n",
            "151/150 [==============================] - 3s 18ms/step - loss: 0.0386 - accuracy: 0.9887 - val_loss: 0.0124 - val_accuracy: 0.9988\n",
            "Epoch 16/30\n",
            "151/150 [==============================] - 3s 18ms/step - loss: 0.0358 - accuracy: 0.9904 - val_loss: 0.0179 - val_accuracy: 0.9973\n",
            "Epoch 17/30\n",
            "151/150 [==============================] - 3s 18ms/step - loss: 0.0267 - accuracy: 0.9934 - val_loss: 0.0139 - val_accuracy: 0.9975\n",
            "Epoch 18/30\n",
            "151/150 [==============================] - 3s 18ms/step - loss: 0.0213 - accuracy: 0.9944 - val_loss: 0.0060 - val_accuracy: 0.9992\n",
            "Epoch 19/30\n",
            "151/150 [==============================] - 3s 18ms/step - loss: 0.0205 - accuracy: 0.9946 - val_loss: 0.0063 - val_accuracy: 0.9993\n",
            "Epoch 20/30\n",
            "151/150 [==============================] - 3s 18ms/step - loss: 0.0189 - accuracy: 0.9954 - val_loss: 0.0046 - val_accuracy: 0.9995\n",
            "Epoch 21/30\n",
            "151/150 [==============================] - 3s 17ms/step - loss: 0.0164 - accuracy: 0.9956 - val_loss: 0.0074 - val_accuracy: 0.9992\n",
            "Epoch 22/30\n",
            "151/150 [==============================] - 3s 18ms/step - loss: 0.0158 - accuracy: 0.9960 - val_loss: 0.0030 - val_accuracy: 0.9996\n",
            "Epoch 23/30\n",
            "151/150 [==============================] - 3s 18ms/step - loss: 0.0148 - accuracy: 0.9958 - val_loss: 0.0033 - val_accuracy: 0.9995\n",
            "Epoch 24/30\n",
            "151/150 [==============================] - 3s 18ms/step - loss: 0.0153 - accuracy: 0.9961 - val_loss: 0.0034 - val_accuracy: 0.9994\n",
            "Epoch 25/30\n",
            "151/150 [==============================] - 3s 18ms/step - loss: 0.0157 - accuracy: 0.9953 - val_loss: 0.0028 - val_accuracy: 0.9998\n",
            "Epoch 26/30\n",
            "151/150 [==============================] - 3s 17ms/step - loss: 0.0091 - accuracy: 0.9978 - val_loss: 0.0051 - val_accuracy: 0.9987\n",
            "Epoch 27/30\n",
            "151/150 [==============================] - 3s 18ms/step - loss: 0.0108 - accuracy: 0.9973 - val_loss: 0.0032 - val_accuracy: 0.9992\n",
            "Epoch 28/30\n",
            "151/150 [==============================] - 3s 18ms/step - loss: 0.0154 - accuracy: 0.9955 - val_loss: 0.0025 - val_accuracy: 0.9995\n",
            "Epoch 29/30\n",
            "151/150 [==============================] - 3s 18ms/step - loss: 0.0077 - accuracy: 0.9986 - val_loss: 0.0019 - val_accuracy: 1.0000\n",
            "Epoch 30/30\n",
            "151/150 [==============================] - 3s 18ms/step - loss: 0.0224 - accuracy: 0.9931 - val_loss: 0.0036 - val_accuracy: 0.9990\n"
          ],
          "name": "stdout"
        }
      ]
    },
    {
      "cell_type": "code",
      "metadata": {
        "id": "GB63QcRyw7oV",
        "colab_type": "code",
        "outputId": "439ea823-1cca-446d-e70c-a356ece399de",
        "colab": {
          "base_uri": "https://localhost:8080/",
          "height": 513
        }
      },
      "source": [
        "import matplotlib.pyplot as plt\n",
        "import numpy as np\n",
        "\n",
        "plt.plot(history.history['loss'], color='b', label=\"Training loss\", )\n",
        "plt.plot(history.history['val_loss'], color='r', label=\"validation loss\")\n",
        "legend = plt.legend(loc='best', shadow=True)\n",
        "plt.show()\n",
        "\n",
        "plt.plot(history.history['accuracy'], color='b', label=\"Training accuracy\")\n",
        "plt.plot(history.history['val_accuracy'], color='r',label=\"Validation accuracy\")\n",
        "legend = plt.legend(loc='best', shadow=True)\n",
        "plt.show()\n"
      ],
      "execution_count": 0,
      "outputs": [
        {
          "output_type": "display_data",
          "data": {
            "image/png": "[encoded data removed]",
            "text/plain": [
              "<Figure size 432x288 with 1 Axes>"
            ]
          },
          "metadata": {
            "tags": [],
            "needs_background": "light"
          }
        },
        {
          "output_type": "display_data",
          "data": {
            "image/png": "[encoded data removed]",
            "text/plain": [
              "<Figure size 432x288 with 1 Axes>"
            ]
          },
          "metadata": {
            "tags": [],
            "needs_background": "light"
          }
        }
      ]
    },
    {
      "cell_type": "code",
      "metadata": {
        "id": "Epy9SmoBlFUL",
        "colab_type": "code",
        "outputId": "2a8b2e51-9c99-4a02-d389-52d64db99167",
        "colab": {
          "base_uri": "https://localhost:8080/",
          "height": 51
        }
      },
      "source": [
        "test = pd.read_csv('sign_mnist_test.csv')  \n",
        "labels_true = test['label'].values\n",
        "test.drop('label', axis=1, inplace=True)\n",
        "images = test.values\n",
        "images = np.array([np.reshape(i, (28, 28)) for i in images])\n",
        "images = np.array([i.flatten() for i in images])\n",
        "images = images.reshape(images.shape[0], 28, 28, 1)/255\n",
        "\n",
        "labels = label_binarizer.fit_transform(labels_true)\n",
        "score, acc = model.evaluate(images, labels)\n",
        "acc"
      ],
      "execution_count": 0,
      "outputs": [
        {
          "output_type": "stream",
          "text": [
            "225/225 [==============================] - 1s 4ms/step - loss: 0.5570 - accuracy: 0.9024\n"
          ],
          "name": "stdout"
        },
        {
          "output_type": "execute_result",
          "data": {
            "text/plain": [
              "0.9023982286453247"
            ]
          },
          "metadata": {
            "tags": []
          },
          "execution_count": 25
        }
      ]
    },
    {
      "cell_type": "code",
      "metadata": {
        "id": "Uwu4RjCHHz-c",
        "colab_type": "code",
        "outputId": "10dc41b9-4843-4717-c919-ad587f50a650",
        "colab": {
          "base_uri": "https://localhost:8080/",
          "height": 833
        }
      },
      "source": [
        "import cv2\n",
        "from tensorflow.python.keras.layers import Flatten\n",
        "train = pd.read_csv('sign_mnist_train.csv')  \n",
        "labels = train['label'].values\n",
        "train.drop('label', axis=1, inplace=True)\n",
        "images = train.values\n",
        "images = np.array([np.reshape(i, (28, 28)) for i in images])\n",
        "images3d = []\n",
        "for i in range(0, len(images)):\n",
        "  images3d.append(images[i][:, :, None] * np.ones(3, dtype=int)[None, None, :])\n",
        "images3d = np.array(images3d)\n",
        "images3d_resized = np.array([cv2.resize(np.array(i,dtype='uint8'), (32, 32)) for i in images3d])\n",
        "\n",
        "from sklearn.preprocessing import LabelBinarizer\n",
        "label_binarizer = LabelBinarizer()\n",
        "labels = label_binarizer.fit_transform(labels)\n",
        "x_train, x_test, y_train, y_test = train_test_split(images3d_resized, labels, test_size = 0.3, random_state = 42)\n",
        "\n",
        "datagen = ImageDataGenerator(\n",
        "    rotation_range=15,\n",
        "    shear_range=0.1,\n",
        "    zoom_range=0.2,\n",
        "    horizontal_flip=True,\n",
        "    width_shift_range=0.1,\n",
        "    height_shift_range=0.1)\n",
        "\n",
        "datagen.fit(x_train)\n",
        "\n",
        "from tensorflow.python.keras.applications.vgg16 import VGG16\n",
        "from tensorflow.python.keras.models import Model\n",
        "import cv2\n",
        "\n",
        "base_model=VGG16(weights='imagenet',include_top=False, input_shape=(32,32,3)) #imports the mobilenet model and discards the last 1000 neuron layer.\n",
        "\n",
        "\n",
        "x=base_model.output\n",
        "x=Flatten()(x)\n",
        "x=Dense(128,activation='relu')(x) #we add dense layers so that the model can learn more complex functions and classify for better results.\n",
        "x=Dense(64,activation='relu')(x) #dense layer 3\n",
        "preds=Dense(24,activation='softmax')(x) #final layer with softmax activationcallbacks=callbacks\n",
        "model=Model(inputs=base_model.input,outputs=preds)\n",
        "\n",
        "for layer in model.layers[:20]:\n",
        "    layer.trainable=False\n",
        "for layer in model.layers[20:]:\n",
        "    layer.trainable=True\n",
        "model.compile(loss = categorical_crossentropy, optimizer='adam',\n",
        "              metrics=['accuracy'])\n",
        "history = model.fit(datagen.flow(x_train, y_train, batch_size=128), steps_per_epoch=len(x_train) / 128, validation_data = (x_test, y_test), epochs=24 )"
      ],
      "execution_count": 0,
      "outputs": [
        {
          "output_type": "stream",
          "text": [
            "Epoch 1/24\n",
            "151/150 [==============================] - 20s 131ms/step - loss: 2.5757 - accuracy: 0.4173 - val_loss: 0.9338 - val_accuracy: 0.7063\n",
            "Epoch 2/24\n",
            "151/150 [==============================] - 19s 127ms/step - loss: 1.0005 - accuracy: 0.6850 - val_loss: 0.5010 - val_accuracy: 0.8288\n",
            "Epoch 3/24\n",
            "151/150 [==============================] - 18s 122ms/step - loss: 0.7023 - accuracy: 0.7701 - val_loss: 0.3644 - val_accuracy: 0.8770\n",
            "Epoch 4/24\n",
            "151/150 [==============================] - 18s 122ms/step - loss: 0.5490 - accuracy: 0.8157 - val_loss: 0.2371 - val_accuracy: 0.9228\n",
            "Epoch 5/24\n",
            "151/150 [==============================] - 19s 127ms/step - loss: 0.4692 - accuracy: 0.8459 - val_loss: 0.2115 - val_accuracy: 0.9262\n",
            "Epoch 6/24\n",
            "151/150 [==============================] - 18s 122ms/step - loss: 0.4142 - accuracy: 0.8597 - val_loss: 0.1645 - val_accuracy: 0.9398\n",
            "Epoch 7/24\n",
            "151/150 [==============================] - 19s 123ms/step - loss: 0.3652 - accuracy: 0.8764 - val_loss: 0.1647 - val_accuracy: 0.9449\n",
            "Epoch 8/24\n",
            "151/150 [==============================] - 19s 123ms/step - loss: 0.3430 - accuracy: 0.8845 - val_loss: 0.1303 - val_accuracy: 0.9574\n",
            "Epoch 9/24\n",
            "151/150 [==============================] - 19s 123ms/step - loss: 0.3170 - accuracy: 0.8959 - val_loss: 0.1200 - val_accuracy: 0.9608\n",
            "Epoch 10/24\n",
            "151/150 [==============================] - 19s 128ms/step - loss: 0.3061 - accuracy: 0.8984 - val_loss: 0.1077 - val_accuracy: 0.9660\n",
            "Epoch 11/24\n",
            "151/150 [==============================] - 18s 122ms/step - loss: 0.2883 - accuracy: 0.9048 - val_loss: 0.1299 - val_accuracy: 0.9563\n",
            "Epoch 12/24\n",
            "151/150 [==============================] - 18s 122ms/step - loss: 0.2697 - accuracy: 0.9093 - val_loss: 0.1057 - val_accuracy: 0.9662\n",
            "Epoch 13/24\n",
            "151/150 [==============================] - 19s 127ms/step - loss: 0.2608 - accuracy: 0.9157 - val_loss: 0.0828 - val_accuracy: 0.9740\n",
            "Epoch 14/24\n",
            "151/150 [==============================] - 18s 122ms/step - loss: 0.2521 - accuracy: 0.9155 - val_loss: 0.0728 - val_accuracy: 0.9767\n",
            "Epoch 15/24\n",
            "151/150 [==============================] - 19s 123ms/step - loss: 0.2280 - accuracy: 0.9249 - val_loss: 0.0607 - val_accuracy: 0.9830\n",
            "Epoch 16/24\n",
            "151/150 [==============================] - 18s 121ms/step - loss: 0.2296 - accuracy: 0.9243 - val_loss: 0.0724 - val_accuracy: 0.9780\n",
            "Epoch 17/24\n",
            "151/150 [==============================] - 18s 122ms/step - loss: 0.2207 - accuracy: 0.9251 - val_loss: 0.0892 - val_accuracy: 0.9710\n",
            "Epoch 18/24\n",
            "151/150 [==============================] - 19s 126ms/step - loss: 0.2159 - accuracy: 0.9313 - val_loss: 0.0650 - val_accuracy: 0.9778\n",
            "Epoch 19/24\n",
            "151/150 [==============================] - 18s 122ms/step - loss: 0.2086 - accuracy: 0.9300 - val_loss: 0.0788 - val_accuracy: 0.9712\n",
            "Epoch 20/24\n",
            "151/150 [==============================] - 18s 122ms/step - loss: 0.1992 - accuracy: 0.9351 - val_loss: 0.0695 - val_accuracy: 0.9733\n",
            "Epoch 21/24\n",
            "151/150 [==============================] - 19s 128ms/step - loss: 0.1990 - accuracy: 0.9345 - val_loss: 0.0603 - val_accuracy: 0.9800\n",
            "Epoch 22/24\n",
            "151/150 [==============================] - 18s 121ms/step - loss: 0.1929 - accuracy: 0.9352 - val_loss: 0.0624 - val_accuracy: 0.9788\n",
            "Epoch 23/24\n",
            "151/150 [==============================] - 18s 122ms/step - loss: 0.1855 - accuracy: 0.9380 - val_loss: 0.0650 - val_accuracy: 0.9743\n",
            "Epoch 24/24\n",
            "151/150 [==============================] - 18s 122ms/step - loss: 0.1777 - accuracy: 0.9428 - val_loss: 0.0458 - val_accuracy: 0.9860\n"
          ],
          "name": "stdout"
        }
      ]
    },
    {
      "cell_type": "code",
      "metadata": {
        "id": "sQRMS64BQELJ",
        "colab_type": "code",
        "outputId": "ab16b629-276d-4762-b6d1-b85ce80607d5",
        "colab": {
          "base_uri": "https://localhost:8080/",
          "height": 51
        }
      },
      "source": [
        "test = pd.read_csv('sign_mnist_test.csv')  \n",
        "labels_true = test['label'].values\n",
        "test.drop('label', axis=1, inplace=True)\n",
        "images = test.values\n",
        "images = np.array([np.reshape(i, (28, 28)) for i in images])\n",
        "images3d = []\n",
        "for i in range(0, len(images)):\n",
        "  images3d.append(images[i][:, :, None] * np.ones(3, dtype=int)[None, None, :])\n",
        "images3d = np.array(images3d)\n",
        "images3d_resized = np.array([cv2.resize(np.array(i,dtype='uint8'), (32, 32)) for i in images3d])\n",
        "\n",
        "labels = label_binarizer.fit_transform(labels_true)\n",
        "score, acc = model.evaluate(images3d_resized, labels)\n",
        "acc"
      ],
      "execution_count": 0,
      "outputs": [
        {
          "output_type": "stream",
          "text": [
            "225/225 [==============================] - 4s 18ms/step - loss: 0.2009 - accuracy: 0.9304\n"
          ],
          "name": "stdout"
        },
        {
          "output_type": "execute_result",
          "data": {
            "text/plain": [
              "0.9304238557815552"
            ]
          },
          "metadata": {
            "tags": []
          },
          "execution_count": 32
        }
      ]
    },
    {
      "cell_type": "code",
      "metadata": {
        "id": "1e7XyMW52mPv",
        "colab_type": "code",
        "outputId": "bd336acc-d1ae-4bb8-9834-03d2adb77ff4",
        "colab": {
          "base_uri": "https://localhost:8080/",
          "height": 513
        }
      },
      "source": [
        "import matplotlib.pyplot as plt\n",
        "import numpy as np\n",
        "\n",
        "plt.plot(history.history['loss'], color='b', label=\"Training loss\", )\n",
        "plt.plot(history.history['val_loss'], color='r', label=\"validation loss\")\n",
        "legend = plt.legend(loc='best', shadow=True)\n",
        "plt.show()\n",
        "\n",
        "plt.plot(history.history['accuracy'], color='b', label=\"Training accuracy\")\n",
        "plt.plot(history.history['val_accuracy'], color='r',label=\"Validation accuracy\")\n",
        "legend = plt.legend(loc='best', shadow=True)\n",
        "plt.show()"
      ],
      "execution_count": 0,
      "outputs": [
        {
          "output_type": "display_data",
          "data": {
            "image/png": "[encoded data removed]",
            "text/plain": [
              "<Figure size 432x288 with 1 Axes>"
            ]
          },
          "metadata": {
            "tags": [],
            "needs_background": "light"
          }
        },
        {
          "output_type": "display_data",
          "data": {
            "image/png": "[encoded data removed]",
            "text/plain": [
              "<Figure size 432x288 with 1 Axes>"
            ]
          },
          "metadata": {
            "tags": [],
            "needs_background": "light"
          }
        }
      ]
    },
    {
      "cell_type": "code",
      "metadata": {
        "id": "p0Sx3jKw22JN",
        "colab_type": "code",
        "outputId": "f3f3f695-f49f-4c72-8ea0-a4976afc5318",
        "colab": {
          "base_uri": "https://localhost:8080/",
          "height": 935
        }
      },
      "source": [
        "model.summary()"
      ],
      "execution_count": 0,
      "outputs": [
        {
          "output_type": "stream",
          "text": [
            "Model: \"model_2\"\n",
            "_________________________________________________________________\n",
            "Layer (type)                 Output Shape              Param #   \n",
            "=================================================================\n",
            "input_3 (InputLayer)         [(None, 32, 32, 3)]       0         \n",
            "_________________________________________________________________\n",
            "block1_conv1 (Conv2D)        (None, 32, 32, 64)        1792      \n",
            "_________________________________________________________________\n",
            "block1_conv2 (Conv2D)        (None, 32, 32, 64)        36928     \n",
            "_________________________________________________________________\n",
            "block1_pool (MaxPooling2D)   (None, 16, 16, 64)        0         \n",
            "_________________________________________________________________\n",
            "block2_conv1 (Conv2D)        (None, 16, 16, 128)       73856     \n",
            "_________________________________________________________________\n",
            "block2_conv2 (Conv2D)        (None, 16, 16, 128)       147584    \n",
            "_________________________________________________________________\n",
            "block2_pool (MaxPooling2D)   (None, 8, 8, 128)         0         \n",
            "_________________________________________________________________\n",
            "block3_conv1 (Conv2D)        (None, 8, 8, 256)         295168    \n",
            "_________________________________________________________________\n",
            "block3_conv2 (Conv2D)        (None, 8, 8, 256)         590080    \n",
            "_________________________________________________________________\n",
            "block3_conv3 (Conv2D)        (None, 8, 8, 256)         590080    \n",
            "_________________________________________________________________\n",
            "block3_pool (MaxPooling2D)   (None, 4, 4, 256)         0         \n",
            "_________________________________________________________________\n",
            "block4_conv1 (Conv2D)        (None, 4, 4, 512)         1180160   \n",
            "_________________________________________________________________\n",
            "block4_conv2 (Conv2D)        (None, 4, 4, 512)         2359808   \n",
            "_________________________________________________________________\n",
            "block4_conv3 (Conv2D)        (None, 4, 4, 512)         2359808   \n",
            "_________________________________________________________________\n",
            "block4_pool (MaxPooling2D)   (None, 2, 2, 512)         0         \n",
            "_________________________________________________________________\n",
            "block5_conv1 (Conv2D)        (None, 2, 2, 512)         2359808   \n",
            "_________________________________________________________________\n",
            "block5_conv2 (Conv2D)        (None, 2, 2, 512)         2359808   \n",
            "_________________________________________________________________\n",
            "block5_conv3 (Conv2D)        (None, 2, 2, 512)         2359808   \n",
            "_________________________________________________________________\n",
            "block5_pool (MaxPooling2D)   (None, 1, 1, 512)         0         \n",
            "_________________________________________________________________\n",
            "flatten_5 (Flatten)          (None, 512)               0         \n",
            "_________________________________________________________________\n",
            "dense_16 (Dense)             (None, 128)               65664     \n",
            "_________________________________________________________________\n",
            "dense_17 (Dense)             (None, 64)                8256      \n",
            "_________________________________________________________________\n",
            "dense_18 (Dense)             (None, 24)                1560      \n",
            "=================================================================\n",
            "Total params: 14,790,168\n",
            "Trainable params: 75,480\n",
            "Non-trainable params: 14,714,688\n",
            "_________________________________________________________________\n"
          ],
          "name": "stdout"
        }
      ]
    }
  ]
}